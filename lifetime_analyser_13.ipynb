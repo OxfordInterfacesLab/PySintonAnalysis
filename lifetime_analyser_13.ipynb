{
 "cells": [
  {
   "cell_type": "markdown",
   "id": "026332c2-5663-44f9-96c3-b03357d77dd2",
   "metadata": {},
   "source": [
    "# Sinton Lifetime Analyser\n",
    "\n",
    "This code opens a series of Sinton Lifetime Excel files, saves them into a panda dataframe, and displays a dash plot where the different files can be explored. \n",
    "\n",
    "You can then choose which of the files to analyse and plot separately.\n",
    "\n",
    "First we start by importing some useful libraries."
   ]
  },
  {
   "cell_type": "code",
   "execution_count": 11,
   "id": "64bc328c-d46c-4f99-9933-7d044f6e2d19",
   "metadata": {
    "tags": []
   },
   "outputs": [],
   "source": [
    "import numpy as np\n",
    "import matplotlib\n",
    "import pandas as pd\n",
    "import os\n",
    "import warnings\n",
    "\n",
    "import plotly.graph_objects as go\n",
    "from plotly.subplots import make_subplots\n",
    "\n",
    "# the library below is not standard, and needs to be added to the same folder.\n",
    "import lifetime_functions_13 as tau_func\n",
    "# additionally make sure that the 'SiliconData.mat' file also exists in the same folder."
   ]
  },
  {
   "cell_type": "markdown",
   "id": "1c68ef98-2eb1-4dfd-b790-80ec9f85dab0",
   "metadata": {},
   "source": [
    " ### Now let's check all .xlsm files in a folder, and get a list of the files we will analyse. It gives the chance of adding or deleting files"
   ]
  },
  {
   "cell_type": "code",
   "execution_count": 12,
   "id": "ffee720d-8330-4539-9be5-e91092e939c1",
   "metadata": {
    "tags": []
   },
   "outputs": [
    {
     "name": "stdout",
     "output_type": "stream",
     "text": [
      "C:\\Users\\corp1959\\OneDrive - Nexus365\\PYTHON\\lifetime_analyser\\data_examples\\Yan_Aug2024\n",
      "Loaded Excel files:\n",
      "Take 2-0723-C-2.xlsm\n",
      "Take 2-0723-D-2.xlsm\n"
     ]
    }
   ],
   "source": [
    "# since the macro files from Sinton have some warnings, best to ignore them\n",
    "warnings.filterwarnings('ignore', category=UserWarning, module='openpyxl')\n",
    "\n",
    "# Create a dictionary to hold the dataframes\n",
    "excel_files = {}\n",
    "\n",
    "#select a folder (remember in python you need \\\\ for the folder path)\n",
    "folder_path = 'C:\\\\Users\\\\corp1959\\\\OneDrive - Nexus365\\\\PYTHON\\\\lifetime_analyser\\\\data_examples\\\\Yan_Aug2024'\n",
    "#folder_path = 'C:\\\\Users\\\\corp1959\\\\Downloads\\\\Sebastian'\n",
    "\n",
    "#folder_path = 'C:\\\\Users\\\\Sebastian\\\\OneDrive - Nexus365\\\\PYTHON\\\\lifetime_analyser\\\\Ana-lifetime'\n",
    "\n",
    "print(folder_path)\n",
    "\n",
    "# Loop through all files in a directory selected by the user\n",
    "for file in os.listdir(folder_path):\n",
    "    # Check if the file is an Excel file\n",
    "    if file.endswith('.xlsm'):\n",
    "        # Create a dataframe from the Excel file\n",
    "        file_path = os.path.join(folder_path, file)\n",
    "        excel_files[file] = pd.read_excel(file_path)\n",
    "print(\"Loaded Excel files:\")\n",
    "for file_name in excel_files:\n",
    "    print(file_name)"
   ]
  },
  {
   "cell_type": "markdown",
   "id": "562804ff-f35f-45b4-b8c4-6412ace129f1",
   "metadata": {},
   "source": [
    "### Plot all of the lifetimes into a single plot that allows exploring the data.\n",
    "If you get errors here it is likely some of the Excel Sinton files are corrupted or are using an older version of the software."
   ]
  },
  {
   "cell_type": "code",
   "execution_count": 13,
   "id": "5e320944-59fc-4c57-8d93-04159535d876",
   "metadata": {
    "tags": []
   },
   "outputs": [
    {
     "name": "stdout",
     "output_type": "stream",
     "text": [
      "reading:  Take 2-0723-C-2.xlsm\n",
      "reading:  Take 2-0723-D-2.xlsm\n"
     ]
    },
    {
     "data": {
      "application/vnd.plotly.v1+json": {
       "config": {
        "plotlyServerURL": "https://plot.ly"
       },
       "data": [
        {
         "mode": "markers",
         "name": "Take 2-0723-C-2.xlsm",
         "type": "scatter",
         "x": [
          9279763890366686,
          8910443602703522,
          8535981931149168,
          8182686196786551,
          7849308862736324,
          7528378389520332,
          7229045222152670,
          6950326927055044,
          6678388065238994,
          6422281879638763,
          6172853105531695,
          5941534818792055,
          5718685930656034,
          5505046593287282,
          5300407750796683,
          5104762351237593,
          4918468985437193,
          4735556803965703,
          4566263834576114,
          4399416856405500,
          4241835010937693,
          4088892765117012.5,
          3941024205735494,
          3795758476674855,
          3658513493716822.5,
          3529013159030883,
          3405869746373528.5,
          3278491729608158,
          3162457994360915.5,
          3047847642835980.5,
          2936569366901324.5,
          2829729891205599,
          2726491307949772.5,
          2627502695006903,
          2531676611994766,
          2439469411644476,
          2347587644881953,
          2261058932549559,
          2176961272346480.8,
          2096802056399991.5,
          2017366550575481.8,
          1943275242846122,
          1868258989488539,
          1796913352029465.5,
          1729748079524595.2,
          1661226074929605.5,
          1601170090028227.2,
          1532905262116608,
          1477012316687075.5,
          1411781986685598.2,
          1361356695456064,
          1306695835080155,
          1254174813851834.5,
          1202828254816903.8,
          1153633220858399.5,
          1104647035518961.5,
          1059852928586897,
          1017042441509502,
          971257694605307.4,
          929295520848472.2,
          889160368753723.6,
          848332618025332.2,
          809867000025079.9,
          770546674546233.9,
          738829099728812.6,
          703539428442760.4,
          670448870292384.9,
          640620258977217.2,
          607680331012533.8,
          582424071737905.8,
          550813997094040.56,
          523585194052004.9,
          497576005052928.56,
          471837373217646.06,
          448352353185787.2,
          425911972205315.4,
          400343292961940.5,
          378017528549182,
          354262169335462.94,
          338156286440609.5,
          318247206986393.2,
          299991439115041.75,
          284002762268663,
          262909900084455.34,
          246905418046592.5,
          235873983906767.72,
          217911960138119.78,
          203648971372700.75,
          185654352384202.12,
          172617215053429.62,
          164481966990106.88,
          153726568811941.84,
          142228118961322.1,
          134042258133238.17,
          124059408186335.1,
          115123832140908.14,
          103854199769766.83,
          97955752642248.94,
          90426827902399.12,
          84613591018054.06,
          77402302211660.33,
          71591372958309.47,
          65723546495966.586,
          59914690394079.18,
          52543398583239.55,
          47994049443055.016,
          48275263531330.49,
          43089735098808.69,
          39194928923548.43,
          37871958555415.44,
          32349138471026.875,
          33027038932823.082,
          31646451696992.605,
          26438776390993.62,
          28034054872201.605,
          29803004500380.113,
          24198906273484.02,
          20802202713292.37,
          18785836514656.586
         ],
         "y": [
          -0.006686428620944384,
          0.0015052286488889276,
          0.0013725294456198105,
          0.001365863176970499,
          0.0013857575081724608,
          0.001403133807828802,
          0.0014236583998559495,
          0.0014515827298142404,
          0.0014620414626670276,
          0.0014711118103644283,
          0.0014839040435515307,
          0.0014980135107995761,
          0.001510054017517955,
          0.0015184462558912838,
          0.001528693030956862,
          0.001530730550099538,
          0.0015444436386795176,
          0.0015500424191972398,
          0.0015568905661122396,
          0.001569084643325494,
          0.0015679827059517945,
          0.00156169924050113,
          0.0015577327761074921,
          0.0015619528063179758,
          0.0015817260239135034,
          0.0015846522316268217,
          0.0015814849828710723,
          0.0015689972045311315,
          0.0015579637710097264,
          0.0015653995304525691,
          0.00154900385663738,
          0.001548549269840408,
          0.0015545763840236779,
          0.0015572219826090652,
          0.0015470549995070528,
          0.0015350062888620736,
          0.001525752197796715,
          0.0015215564660814751,
          0.0015230694493960988,
          0.0015215760381962387,
          0.0015073011715599951,
          0.0014972384669799186,
          0.0014939676463708628,
          0.0014731663313846143,
          0.0014899456502032323,
          0.0014598953949300996,
          0.0014551538418126541,
          0.0014195476031359047,
          0.0014186394062260777,
          0.0014365247799680168,
          0.0014286067833267312,
          0.0014358992484321815,
          0.0013935375371662128,
          0.0013729453475244014,
          0.001367310016601387,
          0.0013697727042857515,
          0.0013496376907275078,
          0.0013358811058930497,
          0.0013060198600451842,
          0.0012759928983557373,
          0.0012707218272053353,
          0.0012336563882534108,
          0.001232576189822978,
          0.0012327632527119271,
          0.0012326232184201018,
          0.0012389150248004223,
          0.001191555567349417,
          0.0012119607485576273,
          0.0011747306102281598,
          0.0011512220419346861,
          0.0011390651025038963,
          0.0010990957646860465,
          0.0011185428755351111,
          0.0011132583166994724,
          0.0010780931451649187,
          0.0010446712028579358,
          0.0009784791191206148,
          0.0009807522230378554,
          0.000998256792674049,
          0.001015809726370338,
          0.0010294273470263617,
          0.0009386857195627357,
          0.0009116791035498695,
          0.0009177911550012936,
          0.0008934727906032135,
          0.0009227371352303599,
          0.0008126657603892963,
          0.000738799188842937,
          0.0007767945335016352,
          0.0008231436655424927,
          0.0008991942765718205,
          0.0008938014877781976,
          0.0008162227700341119,
          0.0008108949808228868,
          0.0007469767329184169,
          0.0007191431784358012,
          0.0007099126647600046,
          0.0007580180213023366,
          0.0007875827893265698,
          0.0007398419163424508,
          0.0007128900396324671,
          0.0006763402300850683,
          0.0006187090850857807,
          0.0005735173052522238,
          0.0006474504379034645,
          0.0007304522186883601,
          0.0008802722468542892,
          0.0008482111438927785,
          0.0006100603753581814,
          0.0008084304214863885,
          0.0009351721603439252,
          0.0008077293098579018,
          0.0012005988075856912,
          0.0015137228660700803,
          0.001399853819016075,
          0.0011359080480650274,
          0.000506354413622917,
          0.00041747556871221214,
          0.000666092183050133
         ]
        },
        {
         "mode": "markers",
         "name": "Take 2-0723-D-2.xlsm",
         "type": "scatter",
         "x": [
          30204777949870376,
          28333064068746556,
          26477843055926244,
          24701192559035984,
          23017633438662924,
          21414917857397990,
          19892147477657964,
          18460115530771016,
          17100519432321302,
          15821777789600994,
          14620895344252820,
          13489410238182562,
          12422715125781062,
          11426961120450756,
          10497044666144450,
          9626503977465988,
          8818498994383380,
          8063681020500752,
          7364310977383325,
          6719815159926951,
          6120878376176777,
          5571444354868545,
          5060570817441269,
          4591497029796385,
          4161571482218637.5,
          3763264305047468,
          3400674108590143,
          3070971256230083,
          2765960486925745,
          2487826313266816.5,
          2234003418802472.2,
          1999946787229640,
          1785845303288018.2,
          1594014502070382.5,
          1417596890826739.2,
          1260242281424260.8,
          1114450451625335.5,
          983360258593351.9,
          865818185619354.8,
          760570119513404.2,
          662799492174887.1,
          576421914408410.2,
          496966245467123.94,
          427616154207943.44,
          366635050617107.56,
          309595606262633.9,
          262895674160484.2,
          220790245499228,
          183976674494015.38,
          148232160435403.97,
          76519282484259.38,
          27458765089778.215,
          9199891822724.775,
          100000,
          982628330395.7151,
          100000,
          165145528664.74585,
          1189066653210.5986,
          100000,
          90829936266.62946,
          100000,
          165145528664.74585,
          100000,
          100000,
          100000,
          100000,
          1890966818397.045,
          100000,
          165145528664.74585,
          100000,
          100000,
          100000,
          100000,
          100000,
          100000,
          100000,
          100000,
          100000,
          100000,
          100000,
          100000,
          100000,
          100000,
          100000,
          100000,
          100000,
          100000,
          100000,
          100000,
          100000,
          100000,
          100000,
          100000,
          100000,
          100000,
          100000,
          100000,
          100000,
          100000,
          100000,
          100000,
          100000,
          100000,
          100000,
          100000,
          100000,
          100000,
          100000,
          100000,
          100000,
          100000,
          100000,
          100000,
          100000,
          100000,
          100000,
          100000,
          100000,
          100000
         ],
         "y": [
          0.0002364846598097415,
          0.0002427082140775263,
          0.00025627583634501156,
          0.000269501080407859,
          0.00028410810686740244,
          0.0002974698802732034,
          0.00031099987801090184,
          0.0003239665613157537,
          0.0003356627661175987,
          0.0003480985470355724,
          0.0003573417688809812,
          0.00036953243431466073,
          0.00037469683592208794,
          0.00038700686599621106,
          0.0003895597490747007,
          0.00039917927999221945,
          0.0003966261102295749,
          0.0004050573734919779,
          0.00039922304606141915,
          0.0004072774540132719,
          0.0004007235505640105,
          0.00042458640262266667,
          0.0004265686894458467,
          0.000459643407742264,
          0.00044392245769922165,
          0.00043178793723212545,
          0.00041067699030024264,
          0.00043320625492695937,
          0.00043696877157873144,
          0.0004336596016629294,
          0.000397193479059871,
          0.0004008470219430816,
          0.000403369141751426,
          0.000404966972416427,
          0.0003807020470495792,
          0.0003636140724858201,
          0.00034538650654389634,
          0.0003491886806313872,
          0.0003451264610517694,
          0.0003051981711162525,
          0.0002953122391955045,
          0.00026916033584414823,
          0.0002872263476445282,
          0.00023540267841871648,
          0.00023580932574750676,
          0.00019547061001644287,
          0.00021435879239986694,
          0.00014609076764061072,
          0.00016084841683563882,
          0.00010455566901676627,
          0.00010606926065080124,
          2.7740348814196747e-05,
          1.337374679136311e-05,
          1.2278001553822842e-13,
          1.6764985769038844e-06,
          1.1895419592711921e-13,
          3.5865160083954267e-07,
          1.6589072037015183e-06,
          2.4263685084999044e-13,
          1.6054039336848737e-07,
          2.966474635343233e-13,
          3.710898279546272e-07,
          3.5779063118424136e-13,
          4.874482526411787e-13,
          1.7561680655750592e-13,
          9.691171918618107e-14,
          2.466176725426015e-06,
          2.682557703061062e-13,
          3.7754720867361436e-07,
          1.7604735617554153e-13,
          8.778897663870834e-14,
          1.6884506924736212e-13,
          1.5242960142593887e-13,
          2.4755460592664187e-13,
          1.1572866780923717e-13,
          1.473145216650328e-13,
          1.3605288966946118e-13,
          2.270673747147056e-13,
          1.4797660842311823e-13,
          1.5944209006853193e-13,
          1.2331387076521248e-13,
          1.854917353371648e-13,
          1.6259155833182388e-13,
          1.728335285566488e-13,
          1.5494020273595873e-13,
          1.4253158946713335e-13,
          1.6755617774860625e-13,
          1.463324262910587e-13,
          2.4848877192958996e-13,
          1.5678472606707048e-13,
          3.0915250992703763e-13,
          1.4409101380074303e-13,
          3.1965765872257915e-13,
          1.4440700240978513e-13,
          3.578774593979985e-13,
          1.6060873763431685e-13,
          2.7667859663205743e-13,
          1.8040977915382415e-13,
          2.2023258584599253e-13,
          1.5604167165276924e-13,
          1.6884506924736212e-13,
          1.486446733823226e-13,
          1.3747306401845268e-13,
          1.4898097304732268e-13,
          9.799051140472713e-14,
          1.197265624560996e-13,
          1.7193100515507064e-13,
          7.768501200749322e-10,
          1.6545120412392164e-13,
          1.4797660842311823e-13,
          1.1030086358065009e-13,
          3.521361299993542e-13,
          2.1519459635768672e-13,
          2.9661933724105473e-13,
          1.1613688133094992e-13,
          2.117348834844446e-13,
          1.8342497884581117e-13,
          3.342612592915018e-13,
          1.4377640505263846e-13
         ]
        }
       ],
       "layout": {
        "autosize": true,
        "margin": {
         "b": 20,
         "l": 150,
         "r": 350,
         "t": 20
        },
        "paper_bgcolor": "white",
        "template": {
         "data": {
          "bar": [
           {
            "error_x": {
             "color": "#2a3f5f"
            },
            "error_y": {
             "color": "#2a3f5f"
            },
            "marker": {
             "line": {
              "color": "#E5ECF6",
              "width": 0.5
             },
             "pattern": {
              "fillmode": "overlay",
              "size": 10,
              "solidity": 0.2
             }
            },
            "type": "bar"
           }
          ],
          "barpolar": [
           {
            "marker": {
             "line": {
              "color": "#E5ECF6",
              "width": 0.5
             },
             "pattern": {
              "fillmode": "overlay",
              "size": 10,
              "solidity": 0.2
             }
            },
            "type": "barpolar"
           }
          ],
          "carpet": [
           {
            "aaxis": {
             "endlinecolor": "#2a3f5f",
             "gridcolor": "white",
             "linecolor": "white",
             "minorgridcolor": "white",
             "startlinecolor": "#2a3f5f"
            },
            "baxis": {
             "endlinecolor": "#2a3f5f",
             "gridcolor": "white",
             "linecolor": "white",
             "minorgridcolor": "white",
             "startlinecolor": "#2a3f5f"
            },
            "type": "carpet"
           }
          ],
          "choropleth": [
           {
            "colorbar": {
             "outlinewidth": 0,
             "ticks": ""
            },
            "type": "choropleth"
           }
          ],
          "contour": [
           {
            "colorbar": {
             "outlinewidth": 0,
             "ticks": ""
            },
            "colorscale": [
             [
              0,
              "#0d0887"
             ],
             [
              0.1111111111111111,
              "#46039f"
             ],
             [
              0.2222222222222222,
              "#7201a8"
             ],
             [
              0.3333333333333333,
              "#9c179e"
             ],
             [
              0.4444444444444444,
              "#bd3786"
             ],
             [
              0.5555555555555556,
              "#d8576b"
             ],
             [
              0.6666666666666666,
              "#ed7953"
             ],
             [
              0.7777777777777778,
              "#fb9f3a"
             ],
             [
              0.8888888888888888,
              "#fdca26"
             ],
             [
              1,
              "#f0f921"
             ]
            ],
            "type": "contour"
           }
          ],
          "contourcarpet": [
           {
            "colorbar": {
             "outlinewidth": 0,
             "ticks": ""
            },
            "type": "contourcarpet"
           }
          ],
          "heatmap": [
           {
            "colorbar": {
             "outlinewidth": 0,
             "ticks": ""
            },
            "colorscale": [
             [
              0,
              "#0d0887"
             ],
             [
              0.1111111111111111,
              "#46039f"
             ],
             [
              0.2222222222222222,
              "#7201a8"
             ],
             [
              0.3333333333333333,
              "#9c179e"
             ],
             [
              0.4444444444444444,
              "#bd3786"
             ],
             [
              0.5555555555555556,
              "#d8576b"
             ],
             [
              0.6666666666666666,
              "#ed7953"
             ],
             [
              0.7777777777777778,
              "#fb9f3a"
             ],
             [
              0.8888888888888888,
              "#fdca26"
             ],
             [
              1,
              "#f0f921"
             ]
            ],
            "type": "heatmap"
           }
          ],
          "heatmapgl": [
           {
            "colorbar": {
             "outlinewidth": 0,
             "ticks": ""
            },
            "colorscale": [
             [
              0,
              "#0d0887"
             ],
             [
              0.1111111111111111,
              "#46039f"
             ],
             [
              0.2222222222222222,
              "#7201a8"
             ],
             [
              0.3333333333333333,
              "#9c179e"
             ],
             [
              0.4444444444444444,
              "#bd3786"
             ],
             [
              0.5555555555555556,
              "#d8576b"
             ],
             [
              0.6666666666666666,
              "#ed7953"
             ],
             [
              0.7777777777777778,
              "#fb9f3a"
             ],
             [
              0.8888888888888888,
              "#fdca26"
             ],
             [
              1,
              "#f0f921"
             ]
            ],
            "type": "heatmapgl"
           }
          ],
          "histogram": [
           {
            "marker": {
             "pattern": {
              "fillmode": "overlay",
              "size": 10,
              "solidity": 0.2
             }
            },
            "type": "histogram"
           }
          ],
          "histogram2d": [
           {
            "colorbar": {
             "outlinewidth": 0,
             "ticks": ""
            },
            "colorscale": [
             [
              0,
              "#0d0887"
             ],
             [
              0.1111111111111111,
              "#46039f"
             ],
             [
              0.2222222222222222,
              "#7201a8"
             ],
             [
              0.3333333333333333,
              "#9c179e"
             ],
             [
              0.4444444444444444,
              "#bd3786"
             ],
             [
              0.5555555555555556,
              "#d8576b"
             ],
             [
              0.6666666666666666,
              "#ed7953"
             ],
             [
              0.7777777777777778,
              "#fb9f3a"
             ],
             [
              0.8888888888888888,
              "#fdca26"
             ],
             [
              1,
              "#f0f921"
             ]
            ],
            "type": "histogram2d"
           }
          ],
          "histogram2dcontour": [
           {
            "colorbar": {
             "outlinewidth": 0,
             "ticks": ""
            },
            "colorscale": [
             [
              0,
              "#0d0887"
             ],
             [
              0.1111111111111111,
              "#46039f"
             ],
             [
              0.2222222222222222,
              "#7201a8"
             ],
             [
              0.3333333333333333,
              "#9c179e"
             ],
             [
              0.4444444444444444,
              "#bd3786"
             ],
             [
              0.5555555555555556,
              "#d8576b"
             ],
             [
              0.6666666666666666,
              "#ed7953"
             ],
             [
              0.7777777777777778,
              "#fb9f3a"
             ],
             [
              0.8888888888888888,
              "#fdca26"
             ],
             [
              1,
              "#f0f921"
             ]
            ],
            "type": "histogram2dcontour"
           }
          ],
          "mesh3d": [
           {
            "colorbar": {
             "outlinewidth": 0,
             "ticks": ""
            },
            "type": "mesh3d"
           }
          ],
          "parcoords": [
           {
            "line": {
             "colorbar": {
              "outlinewidth": 0,
              "ticks": ""
             }
            },
            "type": "parcoords"
           }
          ],
          "pie": [
           {
            "automargin": true,
            "type": "pie"
           }
          ],
          "scatter": [
           {
            "fillpattern": {
             "fillmode": "overlay",
             "size": 10,
             "solidity": 0.2
            },
            "type": "scatter"
           }
          ],
          "scatter3d": [
           {
            "line": {
             "colorbar": {
              "outlinewidth": 0,
              "ticks": ""
             }
            },
            "marker": {
             "colorbar": {
              "outlinewidth": 0,
              "ticks": ""
             }
            },
            "type": "scatter3d"
           }
          ],
          "scattercarpet": [
           {
            "marker": {
             "colorbar": {
              "outlinewidth": 0,
              "ticks": ""
             }
            },
            "type": "scattercarpet"
           }
          ],
          "scattergeo": [
           {
            "marker": {
             "colorbar": {
              "outlinewidth": 0,
              "ticks": ""
             }
            },
            "type": "scattergeo"
           }
          ],
          "scattergl": [
           {
            "marker": {
             "colorbar": {
              "outlinewidth": 0,
              "ticks": ""
             }
            },
            "type": "scattergl"
           }
          ],
          "scattermapbox": [
           {
            "marker": {
             "colorbar": {
              "outlinewidth": 0,
              "ticks": ""
             }
            },
            "type": "scattermapbox"
           }
          ],
          "scatterpolar": [
           {
            "marker": {
             "colorbar": {
              "outlinewidth": 0,
              "ticks": ""
             }
            },
            "type": "scatterpolar"
           }
          ],
          "scatterpolargl": [
           {
            "marker": {
             "colorbar": {
              "outlinewidth": 0,
              "ticks": ""
             }
            },
            "type": "scatterpolargl"
           }
          ],
          "scatterternary": [
           {
            "marker": {
             "colorbar": {
              "outlinewidth": 0,
              "ticks": ""
             }
            },
            "type": "scatterternary"
           }
          ],
          "surface": [
           {
            "colorbar": {
             "outlinewidth": 0,
             "ticks": ""
            },
            "colorscale": [
             [
              0,
              "#0d0887"
             ],
             [
              0.1111111111111111,
              "#46039f"
             ],
             [
              0.2222222222222222,
              "#7201a8"
             ],
             [
              0.3333333333333333,
              "#9c179e"
             ],
             [
              0.4444444444444444,
              "#bd3786"
             ],
             [
              0.5555555555555556,
              "#d8576b"
             ],
             [
              0.6666666666666666,
              "#ed7953"
             ],
             [
              0.7777777777777778,
              "#fb9f3a"
             ],
             [
              0.8888888888888888,
              "#fdca26"
             ],
             [
              1,
              "#f0f921"
             ]
            ],
            "type": "surface"
           }
          ],
          "table": [
           {
            "cells": {
             "fill": {
              "color": "#EBF0F8"
             },
             "line": {
              "color": "white"
             }
            },
            "header": {
             "fill": {
              "color": "#C8D4E3"
             },
             "line": {
              "color": "white"
             }
            },
            "type": "table"
           }
          ]
         },
         "layout": {
          "annotationdefaults": {
           "arrowcolor": "#2a3f5f",
           "arrowhead": 0,
           "arrowwidth": 1
          },
          "autotypenumbers": "strict",
          "coloraxis": {
           "colorbar": {
            "outlinewidth": 0,
            "ticks": ""
           }
          },
          "colorscale": {
           "diverging": [
            [
             0,
             "#8e0152"
            ],
            [
             0.1,
             "#c51b7d"
            ],
            [
             0.2,
             "#de77ae"
            ],
            [
             0.3,
             "#f1b6da"
            ],
            [
             0.4,
             "#fde0ef"
            ],
            [
             0.5,
             "#f7f7f7"
            ],
            [
             0.6,
             "#e6f5d0"
            ],
            [
             0.7,
             "#b8e186"
            ],
            [
             0.8,
             "#7fbc41"
            ],
            [
             0.9,
             "#4d9221"
            ],
            [
             1,
             "#276419"
            ]
           ],
           "sequential": [
            [
             0,
             "#0d0887"
            ],
            [
             0.1111111111111111,
             "#46039f"
            ],
            [
             0.2222222222222222,
             "#7201a8"
            ],
            [
             0.3333333333333333,
             "#9c179e"
            ],
            [
             0.4444444444444444,
             "#bd3786"
            ],
            [
             0.5555555555555556,
             "#d8576b"
            ],
            [
             0.6666666666666666,
             "#ed7953"
            ],
            [
             0.7777777777777778,
             "#fb9f3a"
            ],
            [
             0.8888888888888888,
             "#fdca26"
            ],
            [
             1,
             "#f0f921"
            ]
           ],
           "sequentialminus": [
            [
             0,
             "#0d0887"
            ],
            [
             0.1111111111111111,
             "#46039f"
            ],
            [
             0.2222222222222222,
             "#7201a8"
            ],
            [
             0.3333333333333333,
             "#9c179e"
            ],
            [
             0.4444444444444444,
             "#bd3786"
            ],
            [
             0.5555555555555556,
             "#d8576b"
            ],
            [
             0.6666666666666666,
             "#ed7953"
            ],
            [
             0.7777777777777778,
             "#fb9f3a"
            ],
            [
             0.8888888888888888,
             "#fdca26"
            ],
            [
             1,
             "#f0f921"
            ]
           ]
          },
          "colorway": [
           "#636efa",
           "#EF553B",
           "#00cc96",
           "#ab63fa",
           "#FFA15A",
           "#19d3f3",
           "#FF6692",
           "#B6E880",
           "#FF97FF",
           "#FECB52"
          ],
          "font": {
           "color": "#2a3f5f"
          },
          "geo": {
           "bgcolor": "white",
           "lakecolor": "white",
           "landcolor": "#E5ECF6",
           "showlakes": true,
           "showland": true,
           "subunitcolor": "white"
          },
          "hoverlabel": {
           "align": "left"
          },
          "hovermode": "closest",
          "mapbox": {
           "style": "light"
          },
          "paper_bgcolor": "white",
          "plot_bgcolor": "#E5ECF6",
          "polar": {
           "angularaxis": {
            "gridcolor": "white",
            "linecolor": "white",
            "ticks": ""
           },
           "bgcolor": "#E5ECF6",
           "radialaxis": {
            "gridcolor": "white",
            "linecolor": "white",
            "ticks": ""
           }
          },
          "scene": {
           "xaxis": {
            "backgroundcolor": "#E5ECF6",
            "gridcolor": "white",
            "gridwidth": 2,
            "linecolor": "white",
            "showbackground": true,
            "ticks": "",
            "zerolinecolor": "white"
           },
           "yaxis": {
            "backgroundcolor": "#E5ECF6",
            "gridcolor": "white",
            "gridwidth": 2,
            "linecolor": "white",
            "showbackground": true,
            "ticks": "",
            "zerolinecolor": "white"
           },
           "zaxis": {
            "backgroundcolor": "#E5ECF6",
            "gridcolor": "white",
            "gridwidth": 2,
            "linecolor": "white",
            "showbackground": true,
            "ticks": "",
            "zerolinecolor": "white"
           }
          },
          "shapedefaults": {
           "line": {
            "color": "#2a3f5f"
           }
          },
          "ternary": {
           "aaxis": {
            "gridcolor": "white",
            "linecolor": "white",
            "ticks": ""
           },
           "baxis": {
            "gridcolor": "white",
            "linecolor": "white",
            "ticks": ""
           },
           "bgcolor": "#E5ECF6",
           "caxis": {
            "gridcolor": "white",
            "linecolor": "white",
            "ticks": ""
           }
          },
          "title": {
           "x": 0.05
          },
          "xaxis": {
           "automargin": true,
           "gridcolor": "white",
           "linecolor": "white",
           "ticks": "",
           "title": {
            "standoff": 15
           },
           "zerolinecolor": "white",
           "zerolinewidth": 2
          },
          "yaxis": {
           "automargin": true,
           "gridcolor": "white",
           "linecolor": "white",
           "ticks": "",
           "title": {
            "standoff": 15
           },
           "zerolinecolor": "white",
           "zerolinewidth": 2
          }
         }
        },
        "xaxis": {
         "anchor": "y",
         "autorange": true,
         "domain": [
          0,
          1
         ],
         "exponentformat": "power",
         "minor": {
          "showgrid": true,
          "ticklen": 6,
          "ticks": "inside"
         },
         "range": [
          4.307855423238158,
          17.172220224127425
         ],
         "title": {
          "text": "Delta N [cm^-3]"
         },
         "type": "log"
        },
        "yaxis": {
         "anchor": "x",
         "autorange": true,
         "domain": [
          0,
          1
         ],
         "range": [
          -13.798615906098153,
          -2.0580101408630007
         ],
         "title": {
          "text": "Tau Effective (s)"
         },
         "type": "log"
        }
       }
      },
      "image/png": "[encoded data removed]",
      "text/html": [
       "<div>                            <div id=\"2a496274-14ab-4267-b537-3104b9ce5b85\" class=\"plotly-graph-div\" style=\"height:525px; width:100%;\"></div>            <script type=\"text/javascript\">                require([\"plotly\"], function(Plotly) {                    window.PLOTLYENV=window.PLOTLYENV || {};                                    if (document.getElementById(\"2a496274-14ab-4267-b537-3104b9ce5b85\")) {                    Plotly.newPlot(                        \"2a496274-14ab-4267-b537-3104b9ce5b85\",                        [{\"mode\":\"markers\",\"name\":\"Take 2-0723-C-2.xlsm\",\"x\":[9279763890366686.0,8910443602703522.0,8535981931149168.0,8182686196786551.0,7849308862736324.0,7528378389520332.0,7229045222152670.0,6950326927055044.0,6678388065238994.0,6422281879638763.0,6172853105531695.0,5941534818792055.0,5718685930656034.0,5505046593287282.0,5300407750796683.0,5104762351237593.0,4918468985437193.0,4735556803965703.0,4566263834576114.0,4399416856405500.0,4241835010937693.0,4088892765117012.5,3941024205735494.0,3795758476674855.0,3658513493716822.5,3529013159030883.0,3405869746373528.5,3278491729608158.0,3162457994360915.5,3047847642835980.5,2936569366901324.5,2829729891205599.0,2726491307949772.5,2627502695006903.0,2531676611994766.0,2439469411644476.0,2347587644881953.0,2261058932549559.0,2176961272346480.8,2096802056399991.5,2017366550575481.8,1943275242846122.0,1868258989488539.0,1796913352029465.5,1729748079524595.2,1661226074929605.5,1601170090028227.2,1532905262116608.0,1477012316687075.5,1411781986685598.2,1361356695456064.0,1306695835080155.0,1254174813851834.5,1202828254816903.8,1153633220858399.5,1104647035518961.5,1059852928586897.0,1017042441509502.0,971257694605307.4,929295520848472.2,889160368753723.6,848332618025332.2,809867000025079.9,770546674546233.9,738829099728812.6,703539428442760.4,670448870292384.9,640620258977217.2,607680331012533.8,582424071737905.8,550813997094040.56,523585194052004.9,497576005052928.56,471837373217646.06,448352353185787.2,425911972205315.4,400343292961940.5,378017528549182.0,354262169335462.94,338156286440609.5,318247206986393.2,299991439115041.75,284002762268663.0,262909900084455.34,246905418046592.5,235873983906767.72,217911960138119.78,203648971372700.75,185654352384202.12,172617215053429.62,164481966990106.88,153726568811941.84,142228118961322.1,134042258133238.17,124059408186335.1,115123832140908.14,103854199769766.83,97955752642248.94,90426827902399.12,84613591018054.06,77402302211660.33,71591372958309.47,65723546495966.586,59914690394079.18,52543398583239.55,47994049443055.016,48275263531330.49,43089735098808.69,39194928923548.43,37871958555415.44,32349138471026.875,33027038932823.082,31646451696992.605,26438776390993.62,28034054872201.605,29803004500380.113,24198906273484.02,20802202713292.37,18785836514656.586],\"y\":[-0.006686428620944384,0.0015052286488889276,0.0013725294456198105,0.001365863176970499,0.0013857575081724608,0.001403133807828802,0.0014236583998559495,0.0014515827298142404,0.0014620414626670276,0.0014711118103644283,0.0014839040435515307,0.0014980135107995761,0.001510054017517955,0.0015184462558912838,0.001528693030956862,0.001530730550099538,0.0015444436386795176,0.0015500424191972398,0.0015568905661122396,0.001569084643325494,0.0015679827059517945,0.00156169924050113,0.0015577327761074921,0.0015619528063179758,0.0015817260239135034,0.0015846522316268217,0.0015814849828710723,0.0015689972045311315,0.0015579637710097264,0.0015653995304525691,0.00154900385663738,0.001548549269840408,0.0015545763840236779,0.0015572219826090652,0.0015470549995070528,0.0015350062888620736,0.001525752197796715,0.0015215564660814751,0.0015230694493960988,0.0015215760381962387,0.0015073011715599951,0.0014972384669799186,0.0014939676463708628,0.0014731663313846143,0.0014899456502032323,0.0014598953949300996,0.0014551538418126541,0.0014195476031359047,0.0014186394062260777,0.0014365247799680168,0.0014286067833267312,0.0014358992484321815,0.0013935375371662128,0.0013729453475244014,0.001367310016601387,0.0013697727042857515,0.0013496376907275078,0.0013358811058930497,0.0013060198600451842,0.0012759928983557373,0.0012707218272053353,0.0012336563882534108,0.001232576189822978,0.0012327632527119271,0.0012326232184201018,0.0012389150248004223,0.001191555567349417,0.0012119607485576273,0.0011747306102281598,0.0011512220419346861,0.0011390651025038963,0.0010990957646860465,0.0011185428755351111,0.0011132583166994724,0.0010780931451649187,0.0010446712028579358,0.0009784791191206148,0.0009807522230378554,0.000998256792674049,0.001015809726370338,0.0010294273470263617,0.0009386857195627357,0.0009116791035498695,0.0009177911550012936,0.0008934727906032135,0.0009227371352303599,0.0008126657603892963,0.000738799188842937,0.0007767945335016352,0.0008231436655424927,0.0008991942765718205,0.0008938014877781976,0.0008162227700341119,0.0008108949808228868,0.0007469767329184169,0.0007191431784358012,0.0007099126647600046,0.0007580180213023366,0.0007875827893265698,0.0007398419163424508,0.0007128900396324671,0.0006763402300850683,0.0006187090850857807,0.0005735173052522238,0.0006474504379034645,0.0007304522186883601,0.0008802722468542892,0.0008482111438927785,0.0006100603753581814,0.0008084304214863885,0.0009351721603439252,0.0008077293098579018,0.0012005988075856912,0.0015137228660700803,0.001399853819016075,0.0011359080480650274,0.000506354413622917,0.00041747556871221214,0.000666092183050133],\"type\":\"scatter\"},{\"mode\":\"markers\",\"name\":\"Take 2-0723-D-2.xlsm\",\"x\":[3.0204777949870376e+16,2.8333064068746556e+16,2.6477843055926244e+16,2.4701192559035984e+16,2.3017633438662924e+16,2.141491785739799e+16,1.9892147477657964e+16,1.8460115530771016e+16,1.7100519432321302e+16,1.5821777789600994e+16,1.462089534425282e+16,1.3489410238182562e+16,1.2422715125781062e+16,1.1426961120450756e+16,1.049704466614445e+16,9626503977465988.0,8818498994383380.0,8063681020500752.0,7364310977383325.0,6719815159926951.0,6120878376176777.0,5571444354868545.0,5060570817441269.0,4591497029796385.0,4161571482218637.5,3763264305047468.0,3400674108590143.0,3070971256230083.0,2765960486925745.0,2487826313266816.5,2234003418802472.2,1999946787229640.0,1785845303288018.2,1594014502070382.5,1417596890826739.2,1260242281424260.8,1114450451625335.5,983360258593351.9,865818185619354.8,760570119513404.2,662799492174887.1,576421914408410.2,496966245467123.94,427616154207943.44,366635050617107.56,309595606262633.9,262895674160484.2,220790245499228.0,183976674494015.38,148232160435403.97,76519282484259.38,27458765089778.215,9199891822724.775,100000.0,982628330395.7151,100000.0,165145528664.74585,1189066653210.5986,100000.0,90829936266.62946,100000.0,165145528664.74585,100000.0,100000.0,100000.0,100000.0,1890966818397.045,100000.0,165145528664.74585,100000.0,100000.0,100000.0,100000.0,100000.0,100000.0,100000.0,100000.0,100000.0,100000.0,100000.0,100000.0,100000.0,100000.0,100000.0,100000.0,100000.0,100000.0,100000.0,100000.0,100000.0,100000.0,100000.0,100000.0,100000.0,100000.0,100000.0,100000.0,100000.0,100000.0,100000.0,100000.0,100000.0,100000.0,100000.0,100000.0,100000.0,100000.0,100000.0,100000.0,100000.0,100000.0,100000.0,100000.0,100000.0,100000.0,100000.0,100000.0,100000.0,100000.0],\"y\":[0.0002364846598097415,0.0002427082140775263,0.00025627583634501156,0.000269501080407859,0.00028410810686740244,0.0002974698802732034,0.00031099987801090184,0.0003239665613157537,0.0003356627661175987,0.0003480985470355724,0.0003573417688809812,0.00036953243431466073,0.00037469683592208794,0.00038700686599621106,0.0003895597490747007,0.00039917927999221945,0.0003966261102295749,0.0004050573734919779,0.00039922304606141915,0.0004072774540132719,0.0004007235505640105,0.00042458640262266667,0.0004265686894458467,0.000459643407742264,0.00044392245769922165,0.00043178793723212545,0.00041067699030024264,0.00043320625492695937,0.00043696877157873144,0.0004336596016629294,0.000397193479059871,0.0004008470219430816,0.000403369141751426,0.000404966972416427,0.0003807020470495792,0.0003636140724858201,0.00034538650654389634,0.0003491886806313872,0.0003451264610517694,0.0003051981711162525,0.0002953122391955045,0.00026916033584414823,0.0002872263476445282,0.00023540267841871648,0.00023580932574750676,0.00019547061001644287,0.00021435879239986694,0.00014609076764061072,0.00016084841683563882,0.00010455566901676627,0.00010606926065080124,2.7740348814196747e-05,1.337374679136311e-05,1.2278001553822842e-13,1.6764985769038844e-06,1.1895419592711921e-13,3.5865160083954267e-07,1.6589072037015183e-06,2.4263685084999044e-13,1.6054039336848737e-07,2.966474635343233e-13,3.710898279546272e-07,3.5779063118424136e-13,4.874482526411787e-13,1.7561680655750592e-13,9.691171918618107e-14,2.466176725426015e-06,2.682557703061062e-13,3.7754720867361436e-07,1.7604735617554153e-13,8.778897663870834e-14,1.6884506924736212e-13,1.5242960142593887e-13,2.4755460592664187e-13,1.1572866780923717e-13,1.473145216650328e-13,1.3605288966946118e-13,2.270673747147056e-13,1.4797660842311823e-13,1.5944209006853193e-13,1.2331387076521248e-13,1.854917353371648e-13,1.6259155833182388e-13,1.728335285566488e-13,1.5494020273595873e-13,1.4253158946713335e-13,1.6755617774860625e-13,1.463324262910587e-13,2.4848877192958996e-13,1.5678472606707048e-13,3.0915250992703763e-13,1.4409101380074303e-13,3.1965765872257915e-13,1.4440700240978513e-13,3.578774593979985e-13,1.6060873763431685e-13,2.7667859663205743e-13,1.8040977915382415e-13,2.2023258584599253e-13,1.5604167165276924e-13,1.6884506924736212e-13,1.486446733823226e-13,1.3747306401845268e-13,1.4898097304732268e-13,9.799051140472713e-14,1.197265624560996e-13,1.7193100515507064e-13,7.768501200749322e-10,1.6545120412392164e-13,1.4797660842311823e-13,1.1030086358065009e-13,3.521361299993542e-13,2.1519459635768672e-13,2.9661933724105473e-13,1.1613688133094992e-13,2.117348834844446e-13,1.8342497884581117e-13,3.342612592915018e-13,1.4377640505263846e-13],\"type\":\"scatter\"}],                        {\"template\":{\"data\":{\"histogram2dcontour\":[{\"type\":\"histogram2dcontour\",\"colorbar\":{\"outlinewidth\":0,\"ticks\":\"\"},\"colorscale\":[[0.0,\"#0d0887\"],[0.1111111111111111,\"#46039f\"],[0.2222222222222222,\"#7201a8\"],[0.3333333333333333,\"#9c179e\"],[0.4444444444444444,\"#bd3786\"],[0.5555555555555556,\"#d8576b\"],[0.6666666666666666,\"#ed7953\"],[0.7777777777777778,\"#fb9f3a\"],[0.8888888888888888,\"#fdca26\"],[1.0,\"#f0f921\"]]}],\"choropleth\":[{\"type\":\"choropleth\",\"colorbar\":{\"outlinewidth\":0,\"ticks\":\"\"}}],\"histogram2d\":[{\"type\":\"histogram2d\",\"colorbar\":{\"outlinewidth\":0,\"ticks\":\"\"},\"colorscale\":[[0.0,\"#0d0887\"],[0.1111111111111111,\"#46039f\"],[0.2222222222222222,\"#7201a8\"],[0.3333333333333333,\"#9c179e\"],[0.4444444444444444,\"#bd3786\"],[0.5555555555555556,\"#d8576b\"],[0.6666666666666666,\"#ed7953\"],[0.7777777777777778,\"#fb9f3a\"],[0.8888888888888888,\"#fdca26\"],[1.0,\"#f0f921\"]]}],\"heatmap\":[{\"type\":\"heatmap\",\"colorbar\":{\"outlinewidth\":0,\"ticks\":\"\"},\"colorscale\":[[0.0,\"#0d0887\"],[0.1111111111111111,\"#46039f\"],[0.2222222222222222,\"#7201a8\"],[0.3333333333333333,\"#9c179e\"],[0.4444444444444444,\"#bd3786\"],[0.5555555555555556,\"#d8576b\"],[0.6666666666666666,\"#ed7953\"],[0.7777777777777778,\"#fb9f3a\"],[0.8888888888888888,\"#fdca26\"],[1.0,\"#f0f921\"]]}],\"heatmapgl\":[{\"type\":\"heatmapgl\",\"colorbar\":{\"outlinewidth\":0,\"ticks\":\"\"},\"colorscale\":[[0.0,\"#0d0887\"],[0.1111111111111111,\"#46039f\"],[0.2222222222222222,\"#7201a8\"],[0.3333333333333333,\"#9c179e\"],[0.4444444444444444,\"#bd3786\"],[0.5555555555555556,\"#d8576b\"],[0.6666666666666666,\"#ed7953\"],[0.7777777777777778,\"#fb9f3a\"],[0.8888888888888888,\"#fdca26\"],[1.0,\"#f0f921\"]]}],\"contourcarpet\":[{\"type\":\"contourcarpet\",\"colorbar\":{\"outlinewidth\":0,\"ticks\":\"\"}}],\"contour\":[{\"type\":\"contour\",\"colorbar\":{\"outlinewidth\":0,\"ticks\":\"\"},\"colorscale\":[[0.0,\"#0d0887\"],[0.1111111111111111,\"#46039f\"],[0.2222222222222222,\"#7201a8\"],[0.3333333333333333,\"#9c179e\"],[0.4444444444444444,\"#bd3786\"],[0.5555555555555556,\"#d8576b\"],[0.6666666666666666,\"#ed7953\"],[0.7777777777777778,\"#fb9f3a\"],[0.8888888888888888,\"#fdca26\"],[1.0,\"#f0f921\"]]}],\"surface\":[{\"type\":\"surface\",\"colorbar\":{\"outlinewidth\":0,\"ticks\":\"\"},\"colorscale\":[[0.0,\"#0d0887\"],[0.1111111111111111,\"#46039f\"],[0.2222222222222222,\"#7201a8\"],[0.3333333333333333,\"#9c179e\"],[0.4444444444444444,\"#bd3786\"],[0.5555555555555556,\"#d8576b\"],[0.6666666666666666,\"#ed7953\"],[0.7777777777777778,\"#fb9f3a\"],[0.8888888888888888,\"#fdca26\"],[1.0,\"#f0f921\"]]}],\"mesh3d\":[{\"type\":\"mesh3d\",\"colorbar\":{\"outlinewidth\":0,\"ticks\":\"\"}}],\"scatter\":[{\"fillpattern\":{\"fillmode\":\"overlay\",\"size\":10,\"solidity\":0.2},\"type\":\"scatter\"}],\"parcoords\":[{\"type\":\"parcoords\",\"line\":{\"colorbar\":{\"outlinewidth\":0,\"ticks\":\"\"}}}],\"scatterpolargl\":[{\"type\":\"scatterpolargl\",\"marker\":{\"colorbar\":{\"outlinewidth\":0,\"ticks\":\"\"}}}],\"bar\":[{\"error_x\":{\"color\":\"#2a3f5f\"},\"error_y\":{\"color\":\"#2a3f5f\"},\"marker\":{\"line\":{\"color\":\"#E5ECF6\",\"width\":0.5},\"pattern\":{\"fillmode\":\"overlay\",\"size\":10,\"solidity\":0.2}},\"type\":\"bar\"}],\"scattergeo\":[{\"type\":\"scattergeo\",\"marker\":{\"colorbar\":{\"outlinewidth\":0,\"ticks\":\"\"}}}],\"scatterpolar\":[{\"type\":\"scatterpolar\",\"marker\":{\"colorbar\":{\"outlinewidth\":0,\"ticks\":\"\"}}}],\"histogram\":[{\"marker\":{\"pattern\":{\"fillmode\":\"overlay\",\"size\":10,\"solidity\":0.2}},\"type\":\"histogram\"}],\"scattergl\":[{\"type\":\"scattergl\",\"marker\":{\"colorbar\":{\"outlinewidth\":0,\"ticks\":\"\"}}}],\"scatter3d\":[{\"type\":\"scatter3d\",\"line\":{\"colorbar\":{\"outlinewidth\":0,\"ticks\":\"\"}},\"marker\":{\"colorbar\":{\"outlinewidth\":0,\"ticks\":\"\"}}}],\"scattermapbox\":[{\"type\":\"scattermapbox\",\"marker\":{\"colorbar\":{\"outlinewidth\":0,\"ticks\":\"\"}}}],\"scatterternary\":[{\"type\":\"scatterternary\",\"marker\":{\"colorbar\":{\"outlinewidth\":0,\"ticks\":\"\"}}}],\"scattercarpet\":[{\"type\":\"scattercarpet\",\"marker\":{\"colorbar\":{\"outlinewidth\":0,\"ticks\":\"\"}}}],\"carpet\":[{\"aaxis\":{\"endlinecolor\":\"#2a3f5f\",\"gridcolor\":\"white\",\"linecolor\":\"white\",\"minorgridcolor\":\"white\",\"startlinecolor\":\"#2a3f5f\"},\"baxis\":{\"endlinecolor\":\"#2a3f5f\",\"gridcolor\":\"white\",\"linecolor\":\"white\",\"minorgridcolor\":\"white\",\"startlinecolor\":\"#2a3f5f\"},\"type\":\"carpet\"}],\"table\":[{\"cells\":{\"fill\":{\"color\":\"#EBF0F8\"},\"line\":{\"color\":\"white\"}},\"header\":{\"fill\":{\"color\":\"#C8D4E3\"},\"line\":{\"color\":\"white\"}},\"type\":\"table\"}],\"barpolar\":[{\"marker\":{\"line\":{\"color\":\"#E5ECF6\",\"width\":0.5},\"pattern\":{\"fillmode\":\"overlay\",\"size\":10,\"solidity\":0.2}},\"type\":\"barpolar\"}],\"pie\":[{\"automargin\":true,\"type\":\"pie\"}]},\"layout\":{\"autotypenumbers\":\"strict\",\"colorway\":[\"#636efa\",\"#EF553B\",\"#00cc96\",\"#ab63fa\",\"#FFA15A\",\"#19d3f3\",\"#FF6692\",\"#B6E880\",\"#FF97FF\",\"#FECB52\"],\"font\":{\"color\":\"#2a3f5f\"},\"hovermode\":\"closest\",\"hoverlabel\":{\"align\":\"left\"},\"paper_bgcolor\":\"white\",\"plot_bgcolor\":\"#E5ECF6\",\"polar\":{\"bgcolor\":\"#E5ECF6\",\"angularaxis\":{\"gridcolor\":\"white\",\"linecolor\":\"white\",\"ticks\":\"\"},\"radialaxis\":{\"gridcolor\":\"white\",\"linecolor\":\"white\",\"ticks\":\"\"}},\"ternary\":{\"bgcolor\":\"#E5ECF6\",\"aaxis\":{\"gridcolor\":\"white\",\"linecolor\":\"white\",\"ticks\":\"\"},\"baxis\":{\"gridcolor\":\"white\",\"linecolor\":\"white\",\"ticks\":\"\"},\"caxis\":{\"gridcolor\":\"white\",\"linecolor\":\"white\",\"ticks\":\"\"}},\"coloraxis\":{\"colorbar\":{\"outlinewidth\":0,\"ticks\":\"\"}},\"colorscale\":{\"sequential\":[[0.0,\"#0d0887\"],[0.1111111111111111,\"#46039f\"],[0.2222222222222222,\"#7201a8\"],[0.3333333333333333,\"#9c179e\"],[0.4444444444444444,\"#bd3786\"],[0.5555555555555556,\"#d8576b\"],[0.6666666666666666,\"#ed7953\"],[0.7777777777777778,\"#fb9f3a\"],[0.8888888888888888,\"#fdca26\"],[1.0,\"#f0f921\"]],\"sequentialminus\":[[0.0,\"#0d0887\"],[0.1111111111111111,\"#46039f\"],[0.2222222222222222,\"#7201a8\"],[0.3333333333333333,\"#9c179e\"],[0.4444444444444444,\"#bd3786\"],[0.5555555555555556,\"#d8576b\"],[0.6666666666666666,\"#ed7953\"],[0.7777777777777778,\"#fb9f3a\"],[0.8888888888888888,\"#fdca26\"],[1.0,\"#f0f921\"]],\"diverging\":[[0,\"#8e0152\"],[0.1,\"#c51b7d\"],[0.2,\"#de77ae\"],[0.3,\"#f1b6da\"],[0.4,\"#fde0ef\"],[0.5,\"#f7f7f7\"],[0.6,\"#e6f5d0\"],[0.7,\"#b8e186\"],[0.8,\"#7fbc41\"],[0.9,\"#4d9221\"],[1,\"#276419\"]]},\"xaxis\":{\"gridcolor\":\"white\",\"linecolor\":\"white\",\"ticks\":\"\",\"title\":{\"standoff\":15},\"zerolinecolor\":\"white\",\"automargin\":true,\"zerolinewidth\":2},\"yaxis\":{\"gridcolor\":\"white\",\"linecolor\":\"white\",\"ticks\":\"\",\"title\":{\"standoff\":15},\"zerolinecolor\":\"white\",\"automargin\":true,\"zerolinewidth\":2},\"scene\":{\"xaxis\":{\"backgroundcolor\":\"#E5ECF6\",\"gridcolor\":\"white\",\"linecolor\":\"white\",\"showbackground\":true,\"ticks\":\"\",\"zerolinecolor\":\"white\",\"gridwidth\":2},\"yaxis\":{\"backgroundcolor\":\"#E5ECF6\",\"gridcolor\":\"white\",\"linecolor\":\"white\",\"showbackground\":true,\"ticks\":\"\",\"zerolinecolor\":\"white\",\"gridwidth\":2},\"zaxis\":{\"backgroundcolor\":\"#E5ECF6\",\"gridcolor\":\"white\",\"linecolor\":\"white\",\"showbackground\":true,\"ticks\":\"\",\"zerolinecolor\":\"white\",\"gridwidth\":2}},\"shapedefaults\":{\"line\":{\"color\":\"#2a3f5f\"}},\"annotationdefaults\":{\"arrowcolor\":\"#2a3f5f\",\"arrowhead\":0,\"arrowwidth\":1},\"geo\":{\"bgcolor\":\"white\",\"landcolor\":\"#E5ECF6\",\"subunitcolor\":\"white\",\"showland\":true,\"showlakes\":true,\"lakecolor\":\"white\"},\"title\":{\"x\":0.05},\"mapbox\":{\"style\":\"light\"}}},\"xaxis\":{\"anchor\":\"y\",\"domain\":[0.0,1.0],\"type\":\"log\",\"exponentformat\":\"power\",\"minor\":{\"ticks\":\"inside\",\"ticklen\":6,\"showgrid\":true},\"title\":{\"text\":\"Delta N [cm^-3]\"}},\"yaxis\":{\"anchor\":\"x\",\"domain\":[0.0,1.0],\"type\":\"log\",\"title\":{\"text\":\"Tau Effective (s)\"}},\"margin\":{\"l\":150,\"r\":350,\"t\":20,\"b\":20},\"paper_bgcolor\":\"white\"},                        {\"responsive\": true}                    ).then(function(){\n",
       "                            \n",
       "var gd = document.getElementById('2a496274-14ab-4267-b537-3104b9ce5b85');\n",
       "var x = new MutationObserver(function (mutations, observer) {{\n",
       "        var display = window.getComputedStyle(gd).display;\n",
       "        if (!display || display === 'none') {{\n",
       "            console.log([gd, 'removed!']);\n",
       "            Plotly.purge(gd);\n",
       "            observer.disconnect();\n",
       "        }}\n",
       "}});\n",
       "\n",
       "// Listen for the removal of the full notebook cells\n",
       "var notebookContainer = gd.closest('#notebook-container');\n",
       "if (notebookContainer) {{\n",
       "    x.observe(notebookContainer, {childList: true});\n",
       "}}\n",
       "\n",
       "// Listen for the clearing of the current output cell\n",
       "var outputEl = gd.closest('.output');\n",
       "if (outputEl) {{\n",
       "    x.observe(outputEl, {childList: true});\n",
       "}}\n",
       "\n",
       "                        })                };                });            </script>        </div>"
      ]
     },
     "metadata": {},
     "output_type": "display_data"
    }
   ],
   "source": [
    "df_lib = {}# library of all the data_frames lodaded\n",
    "\n",
    "# Create a Plotly figure with subplots\n",
    "fig = make_subplots()\n",
    "fig.update_xaxes(type='log',exponentformat = 'power'); fig.update_yaxes(type='log')\n",
    "fig.update_xaxes(minor=dict(ticks=\"inside\", ticklen=6, showgrid=True))\n",
    "fig.update_xaxes(title_text=\"Delta N [cm^-3]\"); fig.update_yaxes(title_text=\"Tau Effective (s)\")\n",
    "\n",
    "for file_name in excel_files:\n",
    "    print(\"reading: \",file_name)\n",
    "    file_path = os.path.join(folder_path, file_name)\n",
    "    df1=pd.read_excel(file_path ,sheet_name='RawData')\n",
    "    df3=pd.read_excel(file_path, sheet_name='User',nrows=1,header=4)\n",
    "\n",
    "    #create a new dataframe that has all information of a single sample in it.\n",
    "    trunc_ix=3; #remove the first and last 3 values of the lifetime plot.\n",
    "    df = pd.DataFrame({df3.iloc[0,0]:#sample name\n",
    "        [df3.iloc[0,1],#thickness in cm\n",
    "        df3.iloc[0,2],#resisitivity in ohm.cm\n",
    "        df3.iloc[0,3],#Si type\n",
    "        df1['Minority Carrier Density'].iloc[trunc_ix:-trunc_ix],#iloc[4]: Delta_n\n",
    "        df1['Tau (sec)'].iloc[trunc_ix:-trunc_ix],#iloc[5]: Teff\n",
    "        df1['Implied Voc'].iloc[trunc_ix:-trunc_ix],#iloc[6]: iVoc\n",
    "        df1['Implied Suns'].iloc[trunc_ix:-trunc_ix]]})#iloc[7]: iSuns\n",
    "    \n",
    "    df_lib[file_name]=df\n",
    "    sample_name=df.columns[0]\n",
    "    delta_n=df.iloc[3,0]\n",
    "    tau_eff=df.iloc[4,0]\n",
    "    fig.add_trace(go.Scatter(x=delta_n, y=tau_eff, mode='markers', name=file_name))\n",
    "\n",
    "fig.update_layout(\n",
    "    margin=dict(l=150, r=350, t=20, b=20),\n",
    "    paper_bgcolor=\"white\",\n",
    ")\n",
    "fig.show()"
   ]
  },
  {
   "cell_type": "markdown",
   "id": "813773dc-2e9d-4e5c-901f-013833ed3d92",
   "metadata": {},
   "source": [
    "## Decide which excel file you would like to analyse to get the Surface Recombination parameters\n",
    "To make sure it is all clear, here are all the main equations that define how these parameters are analysed.\n",
    "### See more on\n",
    "- RS Bonilla, et al (2017), Phys. Status Solidi A, 214: 1700293\n",
    "- A. Kimmerle, J. Greulich, and A. Wolf, Sol. Energy Mater. Sol. Cells 142, 116–122 (2015).\n",
    "- H. M€ackel and K. Varner, Prog. Photovolt. Res. Appl. 21, 850–866 (2013).\n",
    "- B. Hammann et al., IEEE Journal of Photovoltaics, vol. 13, no. 4, pp. 535-546, July 2023.)\n"
   ]
  },
  {
   "cell_type": "markdown",
   "id": "a3005f75-f27d-488d-b2ec-2c19be2d52ed",
   "metadata": {},
   "source": [
    "\n",
    "Starting from the effective lifetime measured in a Sinton tester $ \\frac{1}{\\tau_{eff}}=\\frac{1}{\\tau_{bulk_int}}+\\frac{1}{\\tau_{SRH}}+\\frac{1}{\\tau_{surf}} $.\n",
    "\n",
    "Effective recombinaiton velocity is: $S_{eff}=\\sqrt{D(\\frac{1}{\\tau_{surf}})}*\\tan(W/2\\sqrt{(\\frac{1}{D\\tau_{surf}})})$.  Which is often approximated to $S_{eff}=W/2(\\frac{1}{\\tau_{surf}})$\n",
    "\n",
    "Then, J0 can be estimate from the average of the flat region of a plot of: $\\frac{\\partial}{\\partial \\Delta n}(n_i^2(S_{eff}))$ which requires the algorithm implemented for getting $J_{0S-avg}$, since we need to calculate an SRH recombination that makes  $J_{0s-avg}=\\frac{qn_i^2S_{eff}}{N_{dop}+\\Delta n} $ a true equation. Here $J_0$ would be a single value parameter, but it is of course possible to simply calculate S and then obtain a J0 as a function of minority carriers. \n",
    "\n",
    "Some useful advice for extracting J0:\n",
    " \n",
    "- Start by letting the software fit the tn, tp, and E_t values.\n",
    "- Check that the fit makes sense in the figure. Remember this code does not fit lifetime, it finds the SRH term that is most compatible with a carrier-independent J_0s average term, as per Kimmerle's method.\n",
    "- If you are doing many samples at the same time, and you cannot check all of them, start on the assumption that they all have the same bulk lifetime.\n",
    "- This means setting a strict value of the SRH bulk via tn, tp, and E_t.\n",
    "- Often you can find out how much defect mediated recombination sample have based on a sample with reasonable passivation (J0s<10 fA/Cm2)\n",
    "- Then use this to fit the best possible SRH, and analyse all samples with a single value of SRH bulk.\n",
    "- Conversely, if your processes aim to change the bulk, but you have a good confidence of the surface passivation, then set the value of J0s and allow the fitted to find the best recombination parameters it can find. "
   ]
  },
  {
   "cell_type": "code",
   "execution_count": 17,
   "id": "1c2576d3-dc0c-42da-a133-40268beeb05e",
   "metadata": {
    "tags": []
   },
   "outputs": [
    {
     "name": "stdout",
     "output_type": "stream",
     "text": [
      "Analysing File ID number 0: Take 2-0723-C-2.xlsm\n",
      "High SRV or wrong gGradient - J_0 calculated from Seff instead of gradient\n",
      "High SRV or wrong gGradient - J_0 calculated from Seff instead of gradient\n",
      "Take 2-0723-C-2\n",
      "`xtol` termination condition is satisfied.\n",
      "The values of tn [s], tp [s], Et-Ev [eV], J0 [A/cm2] are\n",
      "[array([0.00101875, 0.00075202, 0.5573012 ]), 1.9325820978485513e-16]\n",
      "\n",
      " \n",
      " **** Error processing Take 2-0723-C-2.xlsm: x and y arrays must be equal in length along interpolation axis. ****\n",
      " \n",
      " \n"
     ]
    }
   ],
   "source": [
    "# Enter a fileID number from 0 to (max files - 1), and the app will analyse such file.\n",
    "file_ID=0\n",
    "files_in= list(df_lib.keys())\n",
    "print(f\"Analysing File ID number {file_ID}: {files_in[file_ID]}\")  # Output: Key at index 1: b\n",
    "\n",
    "# change the plot_options=0 if you do not want to plot the result of the analysis\n",
    "plot_option=1;\n",
    "\n",
    "# set any options for the fitting of SRH lifetime using the array below\n",
    "#srh_fit_options=np.array([0.01,0.01,0.5,0]) # specify values of tn [s], tp [s], Et-Ev [eV], J0 [A/cm2] (leave as zero for fitting)\n",
    "srh_fit_options=np.array([0,0,0,0]) # specify values of tn [s], tp [s], Et-Ev [eV], J0 [A/cm2] (leave as zero for fitting)\n",
    "\n",
    "try:\n",
    "    results_df=tau_func.extract_srv(df_lib[files_in[file_ID]],plot_option,srh_fit_options)\n",
    "\n",
    "except Exception as e:\n",
    "    print(f\"\\n \\n **** Error processing {files_in[file_ID]}: {e} ****\\n \\n \")\n",
    "\n",
    "# after finishing the fit, the algorithm will state if it finished by finding the smallest variation in the function (ftol) \n",
    "# aim for MSE's velu 1e-6  (the lower the better)\n",
    "# print(results_df)"
   ]
  },
  {
   "cell_type": "markdown",
   "id": "4f57b38b-48b0-43f4-8053-13ff348c9961",
   "metadata": {},
   "source": [
    "## if you would like to save the results into a csv file run the cell below"
   ]
  },
  {
   "cell_type": "code",
   "execution_count": 5,
   "id": "746690b4-12f5-4ff7-9731-e0f54491d31a",
   "metadata": {
    "tags": []
   },
   "outputs": [],
   "source": [
    "tau_func.save_file(results_df,file_name.replace('.xlsm', '.csv'))"
   ]
  },
  {
   "cell_type": "markdown",
   "id": "e39f0c38-a221-406a-b69b-cc0108583978",
   "metadata": {},
   "source": [
    "## If you would like to analyse all of the files inside of the folder, you can use the cell below.\n",
    "Execute carefully as it may take a long time to analyse very big folders."
   ]
  },
  {
   "cell_type": "code",
   "execution_count": null,
   "id": "f5acd008-8b9e-4238-9b32-f1e46d52774c",
   "metadata": {
    "tags": []
   },
   "outputs": [],
   "source": [
    "delta_n_key=1e15 # you need to define at which Delta_N all resuls should be reported\n",
    "\n",
    "#then execute the below to do the analysis\n",
    "df_lib_results = {'variable':[['T_eff'],['S_eff1'],['S_eff2'],['S_eff3'],['J0avg'],['J0_Kimmerle2'],['iVoc'],['mse'],['SRH']]}# library of all the analysed results\n",
    "                  \n",
    "for file_name in df_lib:\n",
    "    try:\n",
    "        results_df=tau_func.extract_srv(df_lib[file_name],0,srh_fit_options)\n",
    "\n",
    "        # extracting all variables and defining by name\n",
    "        sample_name=results_df.columns[0]\n",
    "        delta_n=results_df.iloc[3,0]\n",
    "        tau_eff=results_df.iloc[4,0]\n",
    "        waf_thick=results_df.iloc[0,0]\n",
    "        delta_n2=results_df.loc[5,sample_name]\n",
    "        t_int=results_df.loc[6,sample_name]\n",
    "        nieff=results_df.loc[7,sample_name]\n",
    "        ndop=results_df.loc[8,sample_name]\n",
    "        Joe_avg=results_df.loc[9,sample_name]\n",
    "        tau_SRH=results_df.loc[10,sample_name]\n",
    "        [[Seff_1],[Seff_2],[Seff_3]]=results_df.loc[11,sample_name]\n",
    "        [[Joe6],[Joe2],[Joe1]]=results_df.loc[12,sample_name]\n",
    "        iVoc=results_df.loc[13,sample_name]\n",
    "        tau_eff2=results_df.loc[14,sample_name]\n",
    "        SRH_parms=results_df.loc[15,sample_name]\n",
    "        mse=results_df.loc[16,sample_name]\n",
    "        SunsVoc=results_df.loc[17,sample_name]\n",
    "\n",
    "        df_lib_results[file_name]=[[np.interp(delta_n_key,delta_n2,tau_eff2)],\n",
    "                                   [np.interp(delta_n_key,delta_n2,Seff_1)],\n",
    "                                   [np.interp(delta_n_key,delta_n2,Seff_2)],\n",
    "                                   [np.interp(delta_n_key,delta_n2,Seff_3)],\n",
    "                                   [Joe_avg],\n",
    "                                   [np.interp(delta_n_key,delta_n2,Joe2)],\n",
    "                                   [np.interp(delta_n_key,delta_n2,iVoc)],[mse],[SRH_parms]\n",
    "                                ]\n",
    "    except Exception as e:\n",
    "        print(f\"\\n \\n Error processing {file_name}: {e}\\n \\n \")\n",
    "    continue"
   ]
  },
  {
   "cell_type": "code",
   "execution_count": null,
   "id": "2178b1d8-e6ca-47c7-9e36-f85ebf49686f",
   "metadata": {
    "tags": []
   },
   "outputs": [],
   "source": [
    "#and finally execute this to save all your analysed results to an excel file.\n",
    "\n",
    "data_exp_name='data_out.xlsx'\n",
    "j0s.export_xls(dev1,rec_lib, Dn_vec, Qf_vec,data_exp_name)\n"
   ]
  },
  {
   "cell_type": "code",
   "execution_count": null,
   "id": "1a6601cf-f19c-4f22-b2a2-b1ac2403f5e8",
   "metadata": {},
   "outputs": [],
   "source": []
  }
 ],
 "metadata": {
  "kernelspec": {
   "display_name": "Python 3 (ipykernel)",
   "language": "python",
   "name": "python3"
  },
  "language_info": {
   "codemirror_mode": {
    "name": "ipython",
    "version": 3
   },
   "file_extension": ".py",
   "mimetype": "text/x-python",
   "name": "python",
   "nbconvert_exporter": "python",
   "pygments_lexer": "ipython3",
   "version": "3.11.5"
  }
 },
 "nbformat": 4,
 "nbformat_minor": 5
}
